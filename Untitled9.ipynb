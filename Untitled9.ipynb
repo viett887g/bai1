{
  "nbformat": 4,
  "nbformat_minor": 0,
  "metadata": {
    "colab": {
      "provenance": [],
      "authorship_tag": "ABX9TyORVwMkAz0TeNC5VDcUF29z",
      "include_colab_link": true
    },
    "kernelspec": {
      "name": "python3",
      "display_name": "Python 3"
    },
    "language_info": {
      "name": "python"
    }
  },
  "cells": [
    {
      "cell_type": "markdown",
      "metadata": {
        "id": "view-in-github",
        "colab_type": "text"
      },
      "source": [
        "<a href=\"https://colab.research.google.com/github/viett887g/bai1/blob/main/Untitled9.ipynb\" target=\"_parent\"><img src=\"https://colab.research.google.com/assets/colab-badge.svg\" alt=\"Open In Colab\"/></a>"
      ]
    },
    {
      "cell_type": "code",
      "execution_count": 5,
      "metadata": {
        "colab": {
          "base_uri": "https://localhost:8080/"
        },
        "id": "xpP8Qyh4buNw",
        "outputId": "48452acb-51b3-4e75-95f0-dc33c9113731"
      },
      "outputs": [
        {
          "output_type": "stream",
          "name": "stdout",
          "text": [
            "X shape:  (97,)\n",
            "y shape:  (97,)\n",
            "Number of training examples m =  97\n",
            "Modified X shape:  (97, 2)\n",
            "trong so toi uu :  [-3.63029144  1.16636235]\n",
            "ham mat mat 4.483388256587725\n"
          ]
        }
      ],
      "source": [
        "import os\n",
        "import numpy as np\n",
        "from matplotlib import pyplot as plt\n",
        "\n",
        "def readData(folder, filename):\n",
        "    data = np.loadtxt(os.path.join(folder, filename), delimiter=',')\n",
        "    X = data[:,0]\n",
        "    print('X shape: ', X.shape)\n",
        "    y = data[:,1]\n",
        "    print('y shape: ', y.shape)\n",
        "    m = y.shape[0]\n",
        "    print('Number of training examples m = ', m)\n",
        "    X = np.stack([np.ones(m), X], axis=1)\n",
        "    print('Modified X shape: ', X.shape)\n",
        "    return X, y\n",
        "\n",
        "def Loss_fuc(X, y, w):\n",
        "    m = y.shape[0]\n",
        "    J = 0\n",
        "    h = np.dot(X, w)\n",
        "    J = (1/(2*m))*np.sum(np.square(h - y))\n",
        "    return J\n",
        "\n",
        "def gradientDescent(X, y, w, alpha, n):\n",
        "    m = y.shape[0]\n",
        "    J_history = []\n",
        "    w_optimal = w.copy()\n",
        "    for i in range(n):\n",
        "        w_optimal = w_optimal - (alpha/m)*(np.dot(X, w_optimal) - y).dot(X)\n",
        "        J_history.append(Loss_fuc(X, y, w_optimal))\n",
        "    return w_optimal, J_history\n",
        "\n",
        "def main():\n",
        "    w = np.zeros(2)\n",
        "    n = 1500\n",
        "    alpha = 0.01\n",
        "    X, y = readData(\"/content\",\"ex1data1.txt\")\n",
        "    w, J_history = gradientDescent(X, y, w, alpha, n)\n",
        "    print(\"trong so toi uu : \", w)\n",
        "    print(\"ham mat mat\" , J_history[-1])\n",
        "\n",
        "if __name__ == '__main__':\n",
        "    main()"
      ]
    }
  ]
}